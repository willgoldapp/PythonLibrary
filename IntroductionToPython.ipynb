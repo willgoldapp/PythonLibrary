{
 "cells": [
  {
   "cell_type": "code",
   "execution_count": 2,
   "metadata": {},
   "outputs": [
    {
     "name": "stdout",
     "output_type": "stream",
     "text": [
      "Hello World\n"
     ]
    }
   ],
   "source": [
    "print('Hello World')"
   ]
  },
  {
   "cell_type": "code",
   "execution_count": 4,
   "metadata": {},
   "outputs": [
    {
     "name": "stdout",
     "output_type": "stream",
     "text": [
      "time.struct_time(tm_year=2019, tm_mon=3, tm_mday=29, tm_hour=4, tm_min=48, tm_sec=32, tm_wday=4, tm_yday=88, tm_isdst=0)\n"
     ]
    }
   ],
   "source": [
    "from time import gmtime as the_time\n",
    "print(gmtime())"
   ]
  },
  {
   "cell_type": "code",
   "execution_count": 5,
   "metadata": {},
   "outputs": [
    {
     "name": "stdout",
     "output_type": "stream",
     "text": [
      "time.struct_time(tm_year=2019, tm_mon=3, tm_mday=29, tm_hour=4, tm_min=48, tm_sec=41, tm_wday=4, tm_yday=88, tm_isdst=0)\n"
     ]
    }
   ],
   "source": [
    "print(the_time())"
   ]
  },
  {
   "cell_type": "code",
   "execution_count": 6,
   "metadata": {},
   "outputs": [
    {
     "name": "stdout",
     "output_type": "stream",
     "text": [
      "3\n"
     ]
    }
   ],
   "source": [
    "#Dot notation for objects\n",
    "this_second = the_time().tm_sec\n",
    "print(this_second)"
   ]
  },
  {
   "cell_type": "code",
   "execution_count": 10,
   "metadata": {},
   "outputs": [
    {
     "name": "stdout",
     "output_type": "stream",
     "text": [
      "Divisible by 3:\n"
     ]
    }
   ],
   "source": [
    "# if statement\n",
    "if this_second%3 == 0:\n",
    "    print('Divisible by 3:')\n",
    "elif this_second%2 == 0:\n",
    "    print('Divisible by 2:')\n",
    "else:\n",
    "    print('Default')"
   ]
  },
  {
   "cell_type": "code",
   "execution_count": 11,
   "metadata": {},
   "outputs": [
    {
     "name": "stdout",
     "output_type": "stream",
     "text": [
      "time.struct_time(tm_year=2019, tm_mon=3, tm_mday=29, tm_hour=4, tm_min=59, tm_sec=16, tm_wday=4, tm_yday=88, tm_isdst=0)\n"
     ]
    }
   ],
   "source": [
    "#Importing whole module instead of just a function\n",
    "import random\n",
    "import time\n",
    "\n",
    "print(time.gmtime())"
   ]
  },
  {
   "cell_type": "code",
   "execution_count": 15,
   "metadata": {},
   "outputs": [
    {
     "name": "stdout",
     "output_type": "stream",
     "text": [
      "4\n",
      "This second: 51\n",
      "Divisible by 3:\n",
      "Iteration Complete\n",
      "7\n",
      "This second: 58\n",
      "Divisible by 2:\n",
      "Iteration Complete\n",
      "3\n",
      "This second: 1\n",
      "Default\n",
      "Iteration Complete\n",
      "3\n",
      "This second: 4\n",
      "Divisible by 2:\n",
      "Iteration Complete\n",
      "7\n",
      "This second: 11\n",
      "Default\n",
      "Iteration Complete\n"
     ]
    }
   ],
   "source": [
    "# for loops\n",
    "for i in range(5):\n",
    "    \n",
    "    random_num = random.randint(2,7)\n",
    "    print(random_num)\n",
    "    time.sleep(random_num)\n",
    "    \n",
    "    this_second = the_time().tm_sec\n",
    "    #String formatting with the % operator\n",
    "    print('This second: %s' %this_second) \n",
    "    \n",
    "    if this_second%3 == 0:\n",
    "        print('Divisible by 3:')\n",
    "    elif this_second%2 == 0:\n",
    "        print('Divisible by 2:')\n",
    "    else:\n",
    "        print('Default')\n",
    "        \n",
    "    print('Iteration Complete')"
   ]
  },
  {
   "cell_type": "code",
   "execution_count": 16,
   "metadata": {},
   "outputs": [
    {
     "name": "stdout",
     "output_type": "stream",
     "text": [
      "2\n",
      "This second: 8\n",
      "Divisible by 2:\n",
      "Iteration Complete\n",
      "4\n",
      "This second: 12\n",
      "Divisible by 3:\n"
     ]
    }
   ],
   "source": [
    "# for loops\n",
    "for i in range(5):\n",
    "    \n",
    "    random_num = random.randint(2,7)\n",
    "    print(random_num)\n",
    "    time.sleep(random_num)\n",
    "    \n",
    "    this_second = the_time().tm_sec\n",
    "    #String formatting with the % operator\n",
    "    print('This second: %s' %this_second) \n",
    "    \n",
    "    if this_second%3 == 0:\n",
    "        print('Divisible by 3:')\n",
    "        break;\n",
    "    elif this_second%2 == 0:\n",
    "        print('Divisible by 2:')\n",
    "    else:\n",
    "        print('Default')\n",
    "        \n",
    "    print('Iteration Complete')"
   ]
  },
  {
   "cell_type": "code",
   "execution_count": 17,
   "metadata": {},
   "outputs": [
    {
     "name": "stdout",
     "output_type": "stream",
     "text": [
      "5\n",
      "This second: 52\n",
      "Divisible by 2:\n",
      "Iteration Complete\n",
      "6\n",
      "This second: 58\n",
      "Divisible by 2:\n",
      "Iteration Complete\n",
      "3\n",
      "This second: 1\n",
      "Default\n",
      "Iteration Complete\n",
      "2\n",
      "This second: 3\n",
      "Divisible by 3:\n",
      "4\n",
      "This second: 7\n",
      "Default\n",
      "Iteration Complete\n"
     ]
    }
   ],
   "source": [
    "# for loops\n",
    "for i in range(5):\n",
    "    \n",
    "    random_num = random.randint(2,7)\n",
    "    print(random_num)\n",
    "    time.sleep(random_num)\n",
    "    \n",
    "    this_second = the_time().tm_sec\n",
    "    #String formatting with the % operator\n",
    "    print('This second: %s' %this_second) \n",
    "    \n",
    "    if this_second%3 == 0:\n",
    "        print('Divisible by 3:')\n",
    "        continue;\n",
    "    elif this_second%2 == 0:\n",
    "        print('Divisible by 2:')\n",
    "    else:\n",
    "        print('Default')\n",
    "        \n",
    "    print('Iteration Complete')"
   ]
  },
  {
   "cell_type": "code",
   "execution_count": null,
   "metadata": {},
   "outputs": [],
   "source": []
  }
 ],
 "metadata": {
  "kernelspec": {
   "display_name": "Python 3",
   "language": "python",
   "name": "python3"
  },
  "language_info": {
   "codemirror_mode": {
    "name": "ipython",
    "version": 3
   },
   "file_extension": ".py",
   "mimetype": "text/x-python",
   "name": "python",
   "nbconvert_exporter": "python",
   "pygments_lexer": "ipython3",
   "version": "3.7.2"
  }
 },
 "nbformat": 4,
 "nbformat_minor": 2
}
